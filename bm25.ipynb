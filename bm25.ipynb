{
 "cells": [
  {
   "cell_type": "code",
   "execution_count": 1,
   "metadata": {},
   "outputs": [],
   "source": [
    "import pandas as pd\n",
    "\n",
    "# Load the dataset\n",
    "df = pd.read_csv('corpus/corpus.csv')  # Replace with your dataset path\n",
    "texts = df['text'].tolist()"
   ]
  },
  {
   "cell_type": "code",
   "execution_count": 2,
   "metadata": {},
   "outputs": [],
   "source": [
    "from rank_bm25 import BM25Okapi\n",
    "import numpy as np\n",
    "\n",
    "# Lista de documentos (por ejemplo, corpus)\n",
    "corpus = texts\n",
    "\n",
    "# Preprocesar los documentos (tokenización simple)\n",
    "tokenized_corpus = [doc.lower().split() for doc in corpus]\n",
    "\n",
    "# Crear el modelo BM25\n",
    "bm25 = BM25Okapi(tokenized_corpus)"
   ]
  },
  {
   "cell_type": "code",
   "execution_count": null,
   "metadata": {},
   "outputs": [],
   "source": [
    "# Consultas\n",
    "query = \"Robo con resultado de muerte\"\n",
    "tokenized_query = query.lower().split()\n",
    "\n",
    "# Calcular las puntuaciones BM25 para la consulta en cada documento\n",
    "scores = bm25.get_scores(tokenized_query)\n",
    "\n",
    "# Ordenar los documentos por relevancia\n",
    "sorted_docs = np.argsort(scores)[::-1]  # Orden descendente\n",
    "print(\"\\nDocumentos ordenados por relevancia:\")\n",
    "for idx in sorted_docs[:10]:\n",
    "    print(f\"Documento {idx} (score={scores[idx]}): {corpus[idx]}\")"
   ]
  }
 ],
 "metadata": {
  "kernelspec": {
   "display_name": "Python 3",
   "language": "python",
   "name": "python3"
  },
  "language_info": {
   "codemirror_mode": {
    "name": "ipython",
    "version": 3
   },
   "file_extension": ".py",
   "mimetype": "text/x-python",
   "name": "python",
   "nbconvert_exporter": "python",
   "pygments_lexer": "ipython3",
   "version": "3.10.12"
  }
 },
 "nbformat": 4,
 "nbformat_minor": 2
}
